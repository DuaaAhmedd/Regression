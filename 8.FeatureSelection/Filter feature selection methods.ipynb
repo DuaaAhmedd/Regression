{
 "cells": [
  {
   "cell_type": "markdown",
   "id": "d0ece540",
   "metadata": {},
   "source": [
    "# Feature selection methods"
   ]
  },
  {
   "cell_type": "markdown",
   "id": "88d5bcf2",
   "metadata": {},
   "source": [
    "## Filter feature selection methods(Chi-Squared test , information gain ,correlation coefficient scores)"
   ]
  },
  {
   "cell_type": "code",
   "execution_count": 5,
   "id": "a660669a",
   "metadata": {},
   "outputs": [
    {
     "data": {
      "text/plain": [
       "array([ True,  True,  True])"
      ]
     },
     "execution_count": 5,
     "metadata": {},
     "output_type": "execute_result"
    }
   ],
   "source": [
    "from sklearn.feature_selection import VarianceThreshold\n",
    "X = [\n",
    "      [0, 0, 1],\n",
    "      [0, 1, 0],\n",
    "      [1, 0, 0], \n",
    "      [0, 1, 1],\n",
    "      [0, 1, 0],\n",
    "      [0, 1, 1]\n",
    "]\n",
    "sel = VarianceThreshold(threshold=0.1)\n",
    "sel.fit(X)\n",
    "sel.transform(X)\n",
    "sel.get_support()"
   ]
  },
  {
   "cell_type": "code",
   "execution_count": 14,
   "id": "e78e9f3d",
   "metadata": {},
   "outputs": [
    {
     "name": "stdout",
     "output_type": "stream",
     "text": [
      "(150, 4)\n",
      "(150, 1)\n",
      "(150, 1)\n",
      "(150, 1)\n"
     ]
    }
   ],
   "source": [
    "from sklearn.datasets import load_iris\n",
    "from sklearn.feature_selection import SelectKBest, chi2, f_regression, mutual_info_regression\n",
    "\n",
    "features, labels = load_iris(return_X_y=True)\n",
    "\n",
    "print(features.shape)\n",
    "chi2(features, labels)\n",
    "f_regression(features, labels)\n",
    "mutual_info_regression(features, labels)\n",
    "features_new = SelectKBest(chi2, k=1).fit_transform(features, labels)\n",
    "features_new2 = SelectKBest(f_regression, k=1).fit_transform(features, labels)\n",
    "features_new3 = SelectKBest(mutual_info_regression, k=1).fit_transform(features, labels)\n",
    "print(features_new.shape)\n",
    "print(features_new2.shape)\n",
    "print(features_new3.shape)"
   ]
  },
  {
   "cell_type": "markdown",
   "id": "f9759994",
   "metadata": {},
   "source": [
    "## Wrapper feature selection methods (forward , backward ,recursive )"
   ]
  },
  {
   "cell_type": "code",
   "execution_count": 15,
   "id": "259a1c51",
   "metadata": {},
   "outputs": [
    {
     "data": {
      "text/plain": [
       "array([False, False,  True,  True])"
      ]
     },
     "execution_count": 15,
     "metadata": {},
     "output_type": "execute_result"
    }
   ],
   "source": [
    "from sklearn.feature_selection import SequentialFeatureSelector\n",
    "from sklearn.neighbors import KNeighborsClassifier\n",
    "\n",
    "knn = KNeighborsClassifier(n_neighbors=3)\n",
    "model = SequentialFeatureSelector(\n",
    "    knn,n_features_to_select=2,\n",
    "    direction= 'backward')\n",
    "model.fit(features, labels)\n",
    "model.get_support()"
   ]
  },
  {
   "cell_type": "markdown",
   "id": "16ca9c91",
   "metadata": {},
   "source": [
    "## Embedded feature selection methods (LASSO ,Elastic Net ,RIDGE regression)"
   ]
  },
  {
   "cell_type": "code",
   "execution_count": 22,
   "id": "ac5c105d",
   "metadata": {},
   "outputs": [
    {
     "data": {
      "text/plain": [
       "0.8743742314985349"
      ]
     },
     "execution_count": 22,
     "metadata": {},
     "output_type": "execute_result"
    }
   ],
   "source": [
    "from sklearn.linear_model import Lasso\n",
    "from sklearn.model_selection import train_test_split\n",
    "from sklearn.metrics import r2_score\n",
    "features_train, features_test, labels_train, labels_test = train_test_split(features, labels, test_size=0.3)\n",
    "LModel = Lasso(alpha=0.1)\n",
    "LModel.fit(features_train, labels_train)\n",
    "pridection = LModel.predict(features_test)\n",
    "\n",
    "acc = r2_score(labels_test, pridection)\n",
    "acc"
   ]
  },
  {
   "cell_type": "code",
   "execution_count": 23,
   "id": "ff7ac19c",
   "metadata": {},
   "outputs": [
    {
     "data": {
      "text/plain": [
       "0.8743742314985349"
      ]
     },
     "execution_count": 23,
     "metadata": {},
     "output_type": "execute_result"
    }
   ],
   "source": [
    "from sklearn.linear_model import ElasticNet\n",
    "enModel = ElasticNet()\n",
    "enModel.fit(features_train, labels_train)\n",
    "pridection = LModel.predict(features_test)\n",
    "acc = r2_score(labels_test, pridection)\n",
    "acc"
   ]
  },
  {
   "cell_type": "markdown",
   "id": "477088bf",
   "metadata": {},
   "source": [
    "## Data Visualization with matplotlib"
   ]
  },
  {
   "cell_type": "code",
   "execution_count": 21,
   "id": "36f0d089",
   "metadata": {},
   "outputs": [
    {
     "name": "stdout",
     "output_type": "stream",
     "text": [
      "<matplotlib.collections.PathCollection object at 0x000002B6BD089F70>\n"
     ]
    },
    {
     "data": {
      "image/png": "[encoded data removed]",
      "text/plain": [
       "<Figure size 432x288 with 1 Axes>"
      ]
     },
     "metadata": {
      "needs_background": "light"
     },
     "output_type": "display_data"
    }
   ],
   "source": [
    "import matplotlib.pyplot as plt\n",
    "X = [0, 1, 2]\n",
    "Y = [0, 5, 7]\n",
    "plt.plot(X, Y,color=\"red\")\n",
    "print(plt.scatter(X, Y))"
   ]
  },
  {
   "cell_type": "markdown",
   "id": "18c1109f",
   "metadata": {},
   "source": [
    "## pandas with CSV files "
   ]
  },
  {
   "cell_type": "code",
   "execution_count": 37,
   "id": "b512bb4b",
   "metadata": {},
   "outputs": [
    {
     "name": "stdout",
     "output_type": "stream",
     "text": [
      "[[3]\n",
      " [7]]\n"
     ]
    },
    {
     "data": {
      "text/plain": [
       "array([[ 2],\n",
       "       [ 5],\n",
       "       [ 6],\n",
       "       [10],\n",
       "       [ 1],\n",
       "       [ 9],\n",
       "       [ 4],\n",
       "       [ 8]], dtype=int64)"
      ]
     },
     "execution_count": 37,
     "metadata": {},
     "output_type": "execute_result"
    }
   ],
   "source": [
    "import pandas as pd\n",
    "data = pd.read_csv('Position_Salaries.csv')\n",
    "features = data.iloc[:, 1:-1].values\n",
    "labels = data.iloc[:, -1].values\n",
    "features_train, features_test, labels_train, labels_test = train_test_split(features, labels, test_size=0.2)\n",
    "sel = VarianceThreshold(threshold=0.1)\n",
    "sel.fit_transform(features)\n",
    "sel.get_support()\n",
    "print(features_test)\n",
    "features_train"
   ]
  }
 ],
 "metadata": {
  "kernelspec": {
   "display_name": "Python 3 (ipykernel)",
   "language": "python",
   "name": "python3"
  },
  "language_info": {
   "codemirror_mode": {
    "name": "ipython",
    "version": 3
   },
   "file_extension": ".py",
   "mimetype": "text/x-python",
   "name": "python",
   "nbconvert_exporter": "python",
   "pygments_lexer": "ipython3",
   "version": "3.9.12"
  }
 },
 "nbformat": 4,
 "nbformat_minor": 5
}
